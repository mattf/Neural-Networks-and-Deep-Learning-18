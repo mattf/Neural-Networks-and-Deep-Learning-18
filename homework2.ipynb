{
 "cells": [
  {
   "cell_type": "code",
   "execution_count": null,
   "metadata": {},
   "outputs": [],
   "source": [
    "import numpy as np\n",
    "path='exldata2.txt'\n",
    "data2=pd.read_csv(path,names=['Size','Bedrooms','Price'])\n",
    "data2.hesd()\n",
    "data2=(data-data2.mean())/data2.std()\n",
    "data2.head()\n",
    "data2.insert(0,'Ones',1)\n",
    "cols=data2.shape[1]\n",
    "X2=data2.iloc[:,0:cols-1]\n",
    "y2=data2.iloc[:,cols-1:cols]\n",
    "X2=np.matrix(X2.values)\n",
    "y2=np.matrix(y2.values)\n",
    "theta2=np.matrix(np.array[0,0,0])\n",
    "g2,cost2=gradientDescent(X2,y2,theta2,alpha,epoch)\n",
    "computeCost(X2,y2,g2),g2\n",
    "fig,ax=plt.subplots(figsize=(12,8))\n",
    "ax.plot(np.arrage(epoch),cost2,'r')\n",
    "ax.set_xlabel('Iterations')\n",
    "ax.set_ylabel('Cost')\n",
    "ax.set_title('Error vs.Training Epoch')\n",
    "plt.show()\n",
    "from sklearn import linear_model\n",
    "model=linear_model.LinearRegression()\n",
    "model.fit(X,y)\n",
    "x=np.array(X[:,1].A1)\n",
    "f=model.predict(X).flatten()\n",
    "fig,ax=plt.subplots(figsize=(8,5))\n",
    "ax.plot(x,f,'r',label='Prediction')\n",
    "ax.scatter(data.Population,data.Profit,label='Training Data')\n",
    "ax.legend(loc=2)\n",
    "ax.set_xlabel('Population')\n",
    "ax.set_ylabel('Profit')\n",
    "ax.set_title('Predicted Profit vs.Population Size')\n",
    "plt.show()\n",
    "def normalEqn(X,y):\n",
    "    theta=np.linalg.inv(X,T@X)@X.T@y\n",
    "    return theta\n",
    "final_theta2=normalEqn(X,y)\n",
    "final_theta2"
   ]
  }
 ],
 "metadata": {
  "kernelspec": {
   "display_name": "Python 3",
   "language": "python",
   "name": "python3"
  },
  "language_info": {
   "codemirror_mode": {
    "name": "ipython",
    "version": 3
   },
   "file_extension": ".py",
   "mimetype": "text/x-python",
   "name": "python",
   "nbconvert_exporter": "python",
   "pygments_lexer": "ipython3",
   "version": "3.7.6"
  }
 },
 "nbformat": 4,
 "nbformat_minor": 4
}
